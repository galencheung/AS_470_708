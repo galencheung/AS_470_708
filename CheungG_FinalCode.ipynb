{
 "cells": [
  {
   "cell_type": "markdown",
   "metadata": {},
   "source": [
    "# Code for Final"
   ]
  },
  {
   "cell_type": "markdown",
   "metadata": {},
   "source": [
    "## Load Libraries"
   ]
  },
  {
   "cell_type": "code",
   "execution_count": 1,
   "metadata": {},
   "outputs": [
    {
     "data": {
      "text/plain": [
       "'c:\\\\Users\\\\galen\\\\Documents\\\\GitHub_Repos\\\\JHU\\\\AS_470_708\\\\Final'"
      ]
     },
     "execution_count": 1,
     "metadata": {},
     "output_type": "execute_result"
    }
   ],
   "source": [
    "import os; import numpy as np; import pandas as pd; import re; import statistics;\n",
    "import datetime; import matplotlib.pyplot as plt; import statsmodels.formula.api as smf;\n",
    "from scipy import stats; import matplotlib; import matplotlib.pyplot as plt; import seaborn as sns;\n",
    "from stargazer.stargazer import Stargazer;\n",
    "os.getcwd()"
   ]
  },
  {
   "cell_type": "markdown",
   "metadata": {},
   "source": [
    "## Load Data Sets"
   ]
  },
  {
   "cell_type": "code",
   "execution_count": 2,
   "metadata": {},
   "outputs": [],
   "source": [
    "#Bring in data by cohort/major https://collegescorecard.ed.gov/data/ (contains Field of Study Level)\n",
    "Cohort_data = pd.read_csv('Most-Recent-Cohorts-Field-of-Study.csv')\n",
    "\n",
    "#Bring in USNews_data #Copied to Excel https://premium.usnews.com/best-colleges/rankings/national-universities \n",
    "USNews_data = pd.read_excel('USNewsData.xlsx')\n",
    "\n",
    "#Bring in all Scorecard Data (big dataset) https://collegescorecard.ed.gov/data/ Institution Level\n",
    "All_fields_data = pd.read_csv('Most-Recent-Cohorts-All-Data-Elements.csv', low_memory=False)\n",
    "\n",
    "#CIP Codes from https://nces.ed.gov/ipeds/cipcode/resources.aspx?y=55\n",
    "cip_codes_legend = pd.read_csv('CIPCode2010.csv')"
   ]
  },
  {
   "cell_type": "markdown",
   "metadata": {},
   "source": [
    "## Begin Cleaning and formatting from Raw Data Sets\n",
    "Some preprocessing was conducted such as obtaining the UNITID and OPEID6 where I first joined the name of the University with the cohort data, and manually searched up the remaning which were due to slightly different naming conventions."
   ]
  },
  {
   "cell_type": "markdown",
   "metadata": {},
   "source": [
    "Cleaning the USNewsData"
   ]
  },
  {
   "cell_type": "code",
   "execution_count": 3,
   "metadata": {},
   "outputs": [],
   "source": [
    "#obtain number only, with no (fall 2020) and no comma\n",
    "USNews_data['UG_Enroll'] = USNews_data['Undergraduate Enrollment'].str[:-13].replace(\",\", \"\", regex=True)\n",
    "\n",
    "#remove # from rank and change it to numeric\n",
    "USNews_data['Rank_Int'] = USNews_data['Rank'].str[1:].astype('float64')\n",
    "\n",
    "#obtain universities are rank 100 or better\n",
    "USNews_data_TopHundred = USNews_data.query('Rank_Int <= 100').copy()"
   ]
  },
  {
   "cell_type": "markdown",
   "metadata": {},
   "source": [
    "Subsetting the Most Recent Cohorts Field of Study Data so that it only contains values from the top 100 Schools"
   ]
  },
  {
   "cell_type": "code",
   "execution_count": 4,
   "metadata": {},
   "outputs": [],
   "source": [
    "#Set the Merge column to the same data type as the USNews Merge Column (Int64)\n",
    "Cohort_data['UNITID'] = Cohort_data['UNITID'].astype(\"float64\")\n",
    "\n",
    "#Remove NA values from the merge column (All schools in Top 100 have a UNITID, unable to join if column has NA's)\n",
    "Cohort_data_NoNA = Cohort_data[Cohort_data['UNITID'].notna()].copy()\n",
    "\n",
    "#Inner Join the USNewsRankings to the CohortInfo\n",
    "Cohort_and_Top100 = Cohort_data_NoNA.merge(USNews_data_TopHundred, on = 'UNITID', how = 'inner')\n",
    "\n",
    "#Select out only Bachelor level graduates\n",
    "Cohort_and_Top100 = Cohort_and_Top100[Cohort_and_Top100[\"CREDDESC\"] == \"Bachelors Degree\"]"
   ]
  },
  {
   "cell_type": "markdown",
   "metadata": {},
   "source": [
    "Subsetting the Most Recent Cohorts All Data Elements Data"
   ]
  },
  {
   "cell_type": "code",
   "execution_count": 5,
   "metadata": {},
   "outputs": [],
   "source": [
    "#This now has all three data sources combined\n",
    "All_data_combined =  All_fields_data.merge(Cohort_and_Top100, on = 'UNITID', how = 'inner')\n",
    "\n",
    "##NEW## Using averages of cohort data to describe institution rather than using seprate variables\n",
    "desired_columns = ['Rank_Int', 'INSTNM_x','UNITID','OPEID6_y','LATITUDE','LONGITUDE',\n",
    "                    'HBCU','ADM_RATE','SAT_AVG','UGDS','UGDS_WHITE','UGDS_BLACK',\n",
    "                    'UGDS_HISP','UGDS_ASIAN','TUITFTE','INEXPFTE','AVGFACSAL','PFTFAC',\n",
    "                    'PCTPELL', 'SCHTYPE','OMAWDP8_FULLTIME','CIPCODE','CIPDESC',\n",
    "                    'EARN_MDN_HI_1YR']\n",
    "\n",
    "#Create a subset dataframe\n",
    "data_subset = All_data_combined[desired_columns].copy()\n",
    "\n",
    "#Rename certain columns so there is no suffix\n",
    "data_subset.rename(columns = {'INSTNM_x':'NAME',\n",
    "                    'OPEID6_y': 'OPEID6',\n",
    "                    'Rank_Int': 'RANKING'}, inplace = True)\n",
    "                    \n",
    "#Sort the values first by Ranking, then by College ID, then by CIPCODE (Majors)\n",
    "data_subset = data_subset.sort_values(by=['RANKING', 'UNITID', 'CIPCODE']).copy()"
   ]
  },
  {
   "cell_type": "markdown",
   "metadata": {},
   "source": [
    "Data with Major Controls Data Set"
   ]
  },
  {
   "cell_type": "code",
   "execution_count": 11,
   "metadata": {},
   "outputs": [],
   "source": [
    "#Create a copy of the data for manipulation\n",
    "data_w_majors = data_subset.copy()\n",
    "#print(data_subset_with_major_controls.dtypes)\n",
    "\n",
    "#Make CIPCODE into a string\n",
    "data_w_majors['CIPCODE'] = data_w_majors['CIPCODE'].astype('string')\n",
    "\n",
    "#Sting split the CIPCODE to \"Family\" categories (disregard the right two digits)\n",
    "data_w_majors['CIPFamily'] = data_w_majors['CIPCODE'].str[:-2]\n",
    "\n",
    "#Make a copy of the CIP Legend for aggregating majors together (Classification of Instructional Programs)\n",
    "cip_codes_legend_cleaned = cip_codes_legend.copy()\n",
    "\n",
    "#First strip the digits from the CIP Family, otherwise will have the =\"\" surrounding the numbers, then cast as int to remove leading 0, then cast back to string for joining.\n",
    "cip_codes_legend_cleaned['CIPFamily'] = cip_codes_legend_cleaned['CIPFamily'].str.replace('\\D', '', regex=True).astype('int64').astype('string')\n",
    "cip_codes_legend_cleaned = cip_codes_legend_cleaned.drop_duplicates(subset = 'CIPFamily', keep = 'first').copy()\n",
    "cip_codes_legend_cleaned_subset = cip_codes_legend_cleaned[['CIPFamily', 'CIPTitle', 'CIPDefinition']]\n",
    "\n",
    "#Join the CIP Family information with the rest of the data\n",
    "data_w_majors_and_cip = data_w_majors.merge(cip_codes_legend_cleaned_subset, on = 'CIPFamily', how = 'left')\n",
    "\n",
    "#Replace Privacy Surpressed with np.NaN\n",
    "data_w_majors_and_cip['EARN_MDN_HI_1YR'] = data_w_majors_and_cip['EARN_MDN_HI_1YR'].replace('PrivacySuppressed', np.NaN)\n",
    "# #Cast CIP Family back to float64 for regression now that it is joined\n",
    "data_w_majors_and_cip['CIPFamily'] = data_w_majors_and_cip['CIPFamily'].astype('float64')\n",
    "\n",
    "#After making privacy surpressed into np.NAN, now we cast to float for describe (1 YR)\n",
    "data_w_majors_and_cip['EARN_MDN_HI_1YR'] = data_w_majors_and_cip['EARN_MDN_HI_1YR'].astype('float64')\n",
    "#data_w_majors_and_cip[data_w_majors_and_cip['EARN_MDN_HI_1YR'].notna()] #for counts of total programs (4113)\n",
    "\n",
    "# #Number of Observations\n",
    "data_w_majors_and_cip[data_w_majors_and_cip['EARN_MDN_HI_1YR'].notna()].groupby([\"NAME\", \"CIPTitle\"]).agg(\"mean\");\n",
    "\n",
    "# #Range of programs per institution\n",
    "#data_w_majors_and_cip[data_w_majors_and_cip['EARN_MDN_HI_1YR'].notna()].groupby([\"NAME\", \"CIPTitle\"]).agg(\"mean\").groupby(\"NAME\").agg(\"count\").mean()\n",
    "#data_w_majors_and_cip[data_w_majors_and_cip['EARN_MDN_HI_1YR'].notna()].groupby([\"NAME\", \"CIPTitle\"]).agg(\"mean\").groupby(\"NAME\").agg(\"count\").median()\n",
    "#data_w_majors_and_cip[data_w_majors_and_cip['EARN_MDN_HI_1YR'].notna()].groupby([\"NAME\", \"CIPTitle\"]).agg(\"mean\").groupby(\"NAME\").agg(\"count\").max()\n",
    "#data_w_majors_and_cip[data_w_majors_and_cip['EARN_MDN_HI_1YR'].notna()].groupby([\"NAME\", \"CIPTitle\"]).agg(\"mean\").groupby(\"NAME\").agg(\"count\").min()\n"
   ]
  },
  {
   "cell_type": "markdown",
   "metadata": {},
   "source": [
    "## Data Prep"
   ]
  },
  {
   "cell_type": "markdown",
   "metadata": {},
   "source": [
    "### Visual of Income to Rank sorted all 100"
   ]
  },
  {
   "cell_type": "code",
   "execution_count": 14,
   "metadata": {},
   "outputs": [
    {
     "data": {
      "image/png": "[encoded data removed]",
      "text/plain": [
       "<Figure size 432x288 with 1 Axes>"
      ]
     },
     "metadata": {
      "needs_background": "light"
     },
     "output_type": "display_data"
    }
   ],
   "source": [
    "#Get the meaninful columns\n",
    "data_w_majors_and_cip = data_w_majors_and_cip[['RANKING', 'NAME', 'ADM_RATE', 'UGDS','UGDS_WHITE', \n",
    "                                                'UGDS_BLACK', 'UGDS_HISP', 'UGDS_ASIAN',\n",
    "                                                'TUITFTE', 'INEXPFTE', 'AVGFACSAL', 'PCTPELL',\n",
    "                                                'EARN_MDN_HI_1YR', \"SAT_AVG\", 'CIPFamily',\n",
    "                                                'CIPTitle', 'CIPDefinition']]\n",
    "\n",
    "#Get summary stats for graph\n",
    "income_no_major = data_w_majors_and_cip[data_w_majors_and_cip['EARN_MDN_HI_1YR'].notna()].groupby(by = [\"NAME\"]).agg(\"mean\").reset_index()\n",
    "#Sort the values\n",
    "income_rank_graph_data = income_no_major.sort_values(\"RANKING\")\n",
    "\n",
    "#Create graph of Rank and Income\n",
    "plt.bar(income_rank_graph_data[\"RANKING\"], income_rank_graph_data[\"EARN_MDN_HI_1YR\"])\n",
    "plt.title('Figure 2: Income by University Ranking*')\n",
    "plt.xlabel('College Rank\\n*Due to ties, the highest income for the tied rank is displayed')\n",
    "plt.ylabel('Annual Income')\n",
    "plt.show()\n",
    "\n",
    "#Get a Table of the Program of Study and the Income\n",
    "majors_descrpitive = data_w_majors_and_cip[data_w_majors_and_cip['EARN_MDN_HI_1YR'].notna()].groupby([\"CIPTitle\"]).agg(\"mean\").reset_index()\n",
    "majors_descrpitive[\"Income\"] = majors_descrpitive[\"EARN_MDN_HI_1YR\"].apply(lambda x : f\"${x:,.2f}\")\n",
    "majors_descrpitive = majors_descrpitive[[\"CIPTitle\", \"Income\"]]\n",
    "majors_descrpitive = majors_descrpitive.rename({\"CIPTitle\":\"Program of Study\"}, axis = 1)\n",
    "majors_descrpitive; #Remove semicolon for income by program of study"
   ]
  },
  {
   "cell_type": "markdown",
   "metadata": {},
   "source": [
    "## Data Analysis -- Hypothesis Testing"
   ]
  },
  {
   "cell_type": "code",
   "execution_count": 15,
   "metadata": {},
   "outputs": [],
   "source": [
    "#### Subsetting the rankings in two for hypothesis testing\n",
    "#Get the Top 50 Schools\n",
    "top50 = income_no_major[income_no_major[\"RANKING\"] <= 50]\n",
    "#Get the other 50 Schools\n",
    "bot50 = income_no_major[income_no_major[\"RANKING\"] > 50]"
   ]
  },
  {
   "cell_type": "markdown",
   "metadata": {},
   "source": [
    "Hypothesis Testing 1 to 50 vs 51 to 100"
   ]
  },
  {
   "cell_type": "code",
   "execution_count": 16,
   "metadata": {},
   "outputs": [
    {
     "name": "stdout",
     "output_type": "stream",
     "text": [
      "The one-sided t-test comparing the mean of the mean of the medians of the incomes by major for the university one year after college graduation is:\n",
      " Ttest_indResult(statistic=2.8236618668629068, pvalue=0.0029404114303227496)\n"
     ]
    }
   ],
   "source": [
    "#Test using mean of the medians of the aggregate of the majors for university wide stats\n",
    "mn_one_yr_ttest = stats.ttest_ind(top50[\"EARN_MDN_HI_1YR\"], bot50[\"EARN_MDN_HI_1YR\"], alternative = 'greater', equal_var = False)\n",
    "\n",
    "print(\"The one-sided t-test comparing the mean of the mean of the medians of the incomes by major for the university one year after college graduation is:\\n\", mn_one_yr_ttest)\n",
    "\n",
    "#For visual\n",
    "mean_top_50 = statistics.mean(top50[\"EARN_MDN_HI_1YR\"])\n",
    "mean_bot_50 = statistics.mean(bot50[\"EARN_MDN_HI_1YR\"])"
   ]
  },
  {
   "cell_type": "markdown",
   "metadata": {},
   "source": [
    "Redoing but 1 to 20 and 21 to 40"
   ]
  },
  {
   "cell_type": "code",
   "execution_count": 17,
   "metadata": {},
   "outputs": [
    {
     "name": "stdout",
     "output_type": "stream",
     "text": [
      "The t-test comparing the mean of the mean of the medians of the incomes by major for the university one year after college graduation is:\n",
      " Ttest_indResult(statistic=2.9735311002171723, pvalue=0.006545496512450752)\n",
      "The one-sided t-test comparing the mean of the mean of the medians of the incomes by major for the university one year after college graduation is:\n",
      " Ttest_indResult(statistic=2.9735311002171723, pvalue=0.003272748256225376)\n"
     ]
    }
   ],
   "source": [
    "#### Subsetting the rankings in two for hypothesis testing\n",
    "#Get the Top 20 Schools\n",
    "top_40 = income_no_major[income_no_major[\"RANKING\"] <= 40]\n",
    "\n",
    "top20 = top_40[top_40[\"RANKING\"] <= 20]\n",
    "#Get the other 20 Schools out of top 40\n",
    "bot20 = top_40[top_40[\"RANKING\"] > 20]\n",
    "\n",
    "#Test using mean of the medians of the aggregate of the majors for university wide stats\n",
    "mn_one_yr_ttest = stats.ttest_ind(top20[\"EARN_MDN_HI_1YR\"], bot20[\"EARN_MDN_HI_1YR\"], equal_var = False)\n",
    "mn_one_yr_ttest_greater = stats.ttest_ind(top20[\"EARN_MDN_HI_1YR\"], bot20[\"EARN_MDN_HI_1YR\"], alternative=\"greater\", equal_var = False)\n",
    "\n",
    "print(\"The t-test comparing the mean of the mean of the medians of the incomes by major for the university one year after college graduation is:\\n\", mn_one_yr_ttest)\n",
    "print(\"The one-sided t-test comparing the mean of the mean of the medians of the incomes by major for the university one year after college graduation is:\\n\", mn_one_yr_ttest_greater)\n",
    "\n",
    "#We can see looking at both the mean of the medians and the median of the medians, there is a statistical difference in the means of the groups.\n",
    "#For visual\n",
    "mean_top_20 = statistics.mean(top20[\"EARN_MDN_HI_1YR\"])\n",
    "mean_bot_20 = statistics.mean(bot20[\"EARN_MDN_HI_1YR\"])"
   ]
  },
  {
   "cell_type": "markdown",
   "metadata": {},
   "source": [
    "### Visual of Hypothesis"
   ]
  },
  {
   "cell_type": "code",
   "execution_count": 18,
   "metadata": {},
   "outputs": [
    {
     "data": {
      "image/png": "[encoded data removed]",
      "text/plain": [
       "<Figure size 432x288 with 1 Axes>"
      ]
     },
     "metadata": {
      "needs_background": "light"
     },
     "output_type": "display_data"
    }
   ],
   "source": [
    "## Visual\n",
    "group = [\"Top 100 Split in Half\", \"Top 40 Split in Half\"]\n",
    "higher_ranks = [mean_top_50, mean_top_20]\n",
    "lower_ranks = [mean_bot_50, mean_bot_20]\n",
    "x_axis = np.arange(len(group))\n",
    "\n",
    "# Multi bar Chart\n",
    "plt.bar(x_axis -0.2, higher_ranks, width=0.4, label = 'Higher Ranked Half')\n",
    "plt.bar(x_axis +0.2, lower_ranks, width=0.4, label = 'Lower Ranked Half')\n",
    "\n",
    "# Xticks\n",
    "plt.xticks(x_axis, group)\n",
    "\n",
    "#Title\n",
    "plt.title(\"Figure 1: Incomes of Graduates from Top 100 Universities \\nand Top 40 Universities\")\n",
    "# Add legend\n",
    "plt.legend(bbox_to_anchor=(1.02, 1), loc='upper left', borderaxespad=0)\n",
    "\n",
    "# Display\n",
    "plt.show()"
   ]
  },
  {
   "cell_type": "markdown",
   "metadata": {},
   "source": [
    "## Data Analysis -- Regression\n"
   ]
  },
  {
   "cell_type": "code",
   "execution_count": 19,
   "metadata": {},
   "outputs": [
    {
     "name": "stderr",
     "output_type": "stream",
     "text": [
      "c:\\Users\\galen\\AppData\\Local\\Programs\\Python\\Python310\\lib\\site-packages\\statsmodels\\base\\model.py:1871: ValueWarning: covariance of constraints does not have full rank. The number of constraints is 40, but rank is 33\n",
      "  warnings.warn('covariance of constraints does not have full '\n",
      "c:\\Users\\galen\\AppData\\Local\\Programs\\Python\\Python310\\lib\\site-packages\\statsmodels\\base\\model.py:1871: ValueWarning: covariance of constraints does not have full rank. The number of constraints is 43, but rank is 36\n",
      "  warnings.warn('covariance of constraints does not have full '\n"
     ]
    },
    {
     "data": {
      "text/plain": [
       "'<table style=\"text-align:center\"><tr><td colspan=\"7\" style=\"border-bottom: 1px solid black\"></td></tr><tr><td style=\"text-align:left\"></td><td colspan=\"6\"><em>Dependent variable:EARN_MDN_HI_1YR</em></td></tr><tr><td style=\"text-align:left\"></td><tr><td></td><td colspan=\"1\">Model 1-No Controls</td><td colspan=\"1\">Model 2-Expendeture Control</td><td colspan=\"1\">Model 3-Faculty Salary Control</td><td colspan=\"1\"> Model 4-SAT Control</td><td colspan=\"1\">Model 5-Major Controls</td><td colspan=\"1\">Model 6-All Controls</td></tr><tr><td style=\"text-align:left\"></td><td>(1)</td><td>(2)</td><td>(3)</td><td>(4)</td><td>(5)</td><td>(6)</td></tr><tr><td colspan=\"7\" style=\"border-bottom: 1px solid black\"></td></tr><tr><td style=\"text-align:left\">FACULTY SALARY</td><td></td><td></td><td>2.339<sup>**</sup></td><td></td><td></td><td>0.877<sup>***</sup></td></tr><tr><td style=\"text-align:left\"></td><td></td><td></td><td>(0.939)</td><td></td><td></td><td>(0.143)</td></tr><tr><td style=\"text-align:left\">INSTRUCTIONAL EXPENDITURE</td><td></td><td>0.219<sup>*</sup></td><td></td><td></td><td></td><td>0.050<sup>***</sup></td></tr><tr><td style=\"text-align:left\"></td><td></td><td>(0.122)</td><td></td><td></td><td></td><td>(0.018)</td></tr><tr><td style=\"text-align:left\">RANKING</td><td>-172.965<sup>***</sup></td><td>-55.296<sup></sup></td><td>-1.633<sup></sup></td><td>100.412<sup></sup></td><td>-128.347<sup>***</sup></td><td>46.421<sup>***</sup></td></tr><tr><td style=\"text-align:left\"></td><td>(45.223)</td><td>(45.959)</td><td>(56.636)</td><td>(62.315)</td><td>(7.798)</td><td>(11.678)</td></tr><tr><td style=\"text-align:left\">SAT</td><td></td><td></td><td></td><td>96.177<sup>***</sup></td><td></td><td>36.370<sup>***</sup></td></tr><tr><td style=\"text-align:left\"></td><td></td><td></td><td></td><td>(24.833)</td><td></td><td>(3.525)</td></tr><tr><td style=\"text-align:left\">INTERCEPT</td><td>57510.272<sup>***</sup></td><td>45372.697<sup>***</sup></td><td>17165.024<sup></sup></td><td>-88929.557<sup>**</sup></td><td>48050.264<sup>***</sup></td><td>-22360.784<sup>***</sup></td></tr><tr><td style=\"text-align:left\"></td><td>(2976.927)</td><td>(4985.647)</td><td>(14574.703)</td><td>(36305.830)</td><td>(1070.507)</td><td>(5290.537)</td></tr><tr><td style=\"text-align: left\">MAJOR</td><td>NO</td><td>NO</td><td>NO</td><td>NO</td><td>YES</td><td>YES</td></tr><td colspan=\"7\" style=\"border-bottom: 1px solid black\"></td></tr><tr><td style=\"text-align: left\">Observations</td><td>101</td><td>101</td><td>101</td><td>99</td><td>4,113</td><td>4,078</td></tr><tr><td style=\"text-align: left\">R<sup>2</sup></td><td>0.176</td><td>0.279</td><td>0.297</td><td>0.344</td><td>0.642</td><td>0.664</td></tr><tr><td style=\"text-align: left\">Adjusted R<sup>2</sup></td><td>0.167</td><td>0.265</td><td>0.283</td><td>0.330</td><td>0.639</td><td>0.660</td></tr><tr><td style=\"text-align: left\">Residual Std. Error</td><td>10801.465 (df=99)</td><td>10150.048 (df=98)</td><td>10023.736 (df=98)</td><td>9666.551 (df=96)</td><td>11067.848 (df=4077)</td><td>10724.948 (df=4039)</td></tr><tr><td style=\"text-align: left\">F Statistic</td><td>14.629<sup>***</sup> (df=1; 99)</td><td>9.850<sup>***</sup> (df=2; 98)</td><td>9.199<sup>***</sup> (df=2; 98)</td><td>11.135<sup>***</sup> (df=2; 96)</td><td>1144.859<sup>***</sup> (df=35; 4077)</td><td>902.226<sup>***</sup> (df=38; 4039)</td></tr><tr><td colspan=\"7\" style=\"border-bottom: 1px solid black\"></td></tr><tr><td style=\"text-align: left\">Note:</td>\\n <td colspan=\"6\" style=\"text-align: right\">\\n  <sup>*</sup>p&lt;0.1;\\n  <sup>**</sup>p&lt;0.05;\\n  <sup>***</sup>p&lt;0.01\\n </td></tr></table>'"
      ]
     },
     "execution_count": 19,
     "metadata": {},
     "output_type": "execute_result"
    }
   ],
   "source": [
    "#### No Controls - Using 1 Yr\n",
    "reg0 = smf.ols('EARN_MDN_HI_1YR ~ RANKING', data = income_no_major).fit(cov_type='HC1')\n",
    "\n",
    "#print(reg0.summary())\n",
    "\n",
    "#### Expenses per Student - Using 1 Yr\n",
    "reg1 = smf.ols('EARN_MDN_HI_1YR ~ RANKING + INEXPFTE', data = income_no_major).fit(cov_type='HC1')\n",
    "#print(reg1.summary())\n",
    "\n",
    "#### Faculty - Using 1 Yr\n",
    "reg2 = smf.ols('EARN_MDN_HI_1YR ~ RANKING + AVGFACSAL', data = income_no_major).fit(cov_type='HC1')\n",
    "#print(reg2.summary())\n",
    "\n",
    "#### SAT Score - Using 1 Yr\n",
    "reg3 = smf.ols('EARN_MDN_HI_1YR ~ RANKING + SAT_AVG', data = income_no_major).fit(cov_type='HC1')\n",
    "#print(reg3.summary())\n",
    "\n",
    "#### Major Controls - Using 1 Yr\n",
    "reg4 = smf.ols('EARN_MDN_HI_1YR ~ RANKING + C(CIPTitle)', data = data_w_majors_and_cip).fit(cov_type='HC1')\n",
    "#print(reg4.summary())\n",
    "\n",
    "#### Full - Using 1 Yr\n",
    "reg5 = smf.ols('EARN_MDN_HI_1YR ~ RANKING + INEXPFTE + AVGFACSAL + SAT_AVG + C(CIPTitle)', data = data_w_majors_and_cip).fit(cov_type='HC1')\n",
    "#print(reg5.summary())\n",
    "\n",
    "#### Create a Summary Table\n",
    "table = Stargazer([reg0, reg1, reg2, reg3, reg4, reg5])\n",
    "table.custom_columns(['Model 1-No Controls', 'Model 2-Expendeture Control', 'Model 3-Faculty Salary Control', ' Model 4-SAT Control', 'Model 5-Major Controls', 'Model 6-All Controls'], [1, 1, 1, 1, 1, 1])\n",
    "table.covariate_order([\"AVGFACSAL\", \"INEXPFTE\", \"RANKING\", \"SAT_AVG\", \"Intercept\"])\n",
    "table.rename_covariates({'AVGFACSAL': 'FACULTY SALARY', 'INEXPFTE': 'INSTRUCTIONAL EXPENDITURE', \"SAT_AVG\":\"SAT\", \"Intercept\": \"INTERCEPT\"})\n",
    "table.add_line('MAJOR', ['NO', 'NO', 'NO', 'NO', 'YES', 'YES'])\n",
    "table.render_html()"
   ]
  }
 ],
 "metadata": {
  "interpreter": {
   "hash": "898c9bcb9c1038e24e0a98eb3b3618c41634e00ee2f05434cc2626d562006162"
  },
  "kernelspec": {
   "display_name": "Python 3.10.2 64-bit",
   "language": "python",
   "name": "python3"
  },
  "language_info": {
   "codemirror_mode": {
    "name": "ipython",
    "version": 3
   },
   "file_extension": ".py",
   "mimetype": "text/x-python",
   "name": "python",
   "nbconvert_exporter": "python",
   "pygments_lexer": "ipython3",
   "version": "3.10.2"
  },
  "orig_nbformat": 4
 },
 "nbformat": 4,
 "nbformat_minor": 2
}
